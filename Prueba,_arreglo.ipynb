{
  "nbformat": 4,
  "nbformat_minor": 0,
  "metadata": {
    "colab": {
      "name": "Prueba, arreglo",
      "provenance": []
    },
    "kernelspec": {
      "name": "python3",
      "display_name": "Python 3"
    },
    "language_info": {
      "name": "python"
    }
  },
  "cells": [
    {
      "cell_type": "code",
      "execution_count": null,
      "metadata": {
        "colab": {
          "base_uri": "https://localhost:8080/"
        },
        "id": "3xz6saLS_ciK",
        "outputId": "de6e6665-f65b-450f-8e83-219d278561b4"
      },
      "outputs": [
        {
          "output_type": "stream",
          "name": "stdout",
          "text": [
            "Ingresa un numero2\n",
            "Ingresa un numero4\n",
            "Ingresa un numero6\n",
            "Ingresa un numero8\n",
            "2\n",
            "4\n",
            "6\n",
            "8\n"
          ]
        }
      ],
      "source": [
        "Prueba=[]\n",
        "Prueba.append(int(input('Ingresa un numero')))\n",
        "Prueba.append(int(input('Ingresa un numero')))\n",
        "Prueba.append(int(input('Ingresa un numero')))\n",
        "Prueba.append(int(input('Ingresa un numero')))\n",
        "\n",
        "print(Prueba[0])\n",
        "print(Prueba[1])\n",
        "print(Prueba[2])\n",
        "print(Prueba[3])"
      ]
    }
  ]
}