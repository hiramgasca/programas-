{
  "nbformat": 4,
  "nbformat_minor": 0,
  "metadata": {
    "colab": {
      "name": "Ejemplos-arreglos",
      "provenance": []
    },
    "kernelspec": {
      "name": "python3",
      "display_name": "Python 3"
    },
    "language_info": {
      "name": "python"
    }
  },
  "cells": [
    {
      "cell_type": "code",
      "execution_count": null,
      "metadata": {
        "colab": {
          "base_uri": "https://localhost:8080/"
        },
        "id": "VKsD0YzZ5z3I",
        "outputId": "226c3a1a-c043-4cdf-8bb5-4c56334110ce"
      },
      "outputs": [
        {
          "output_type": "stream",
          "name": "stdout",
          "text": [
            "Juan\n",
            "Pedro\n",
            "Laura\n"
          ]
        }
      ],
      "source": [
        "mi_lista = ['Juan', 'Pedro', 'Laura', 'Carme', 'susana']\n",
        "print(mi_lista[0]) # Muestra Juan (la primera posicion es la 0) \n",
        "print(mi_lista[1]) # Muestra Pedro\n",
        "print(mi_lista[2]) # Muestra Laura"
      ]
    },
    {
      "cell_type": "code",
      "source": [
        "AlumnosFavoritos=['Karina', 'Edith', 'Manolo', 'Carlos', 'Dany']\n",
        "print(AlumnosFavoritos[3])"
      ],
      "metadata": {
        "colab": {
          "base_uri": "https://localhost:8080/"
        },
        "id": "P--NVV2Q8u5w",
        "outputId": "a58c41ca-0e33-4a82-d4fb-6ab2a653502f"
      },
      "execution_count": null,
      "outputs": [
        {
          "output_type": "stream",
          "name": "stdout",
          "text": [
            "Carlos\n"
          ]
        }
      ]
    },
    {
      "cell_type": "code",
      "source": [
        "Calificaciones=[8, 10, 9, 6, 7, 5]\n",
        "print(Calificaciones[0])\n",
        "print(Calificaciones[1])\n",
        "print(Calificaciones[2])"
      ],
      "metadata": {
        "colab": {
          "base_uri": "https://localhost:8080/"
        },
        "id": "L5YMRsNr857L",
        "outputId": "e8e1c853-4715-4d22-c30b-a8ee2794667a"
      },
      "execution_count": null,
      "outputs": [
        {
          "output_type": "stream",
          "name": "stdout",
          "text": [
            "8\n",
            "10\n",
            "9\n"
          ]
        }
      ]
    },
    {
      "cell_type": "code",
      "source": [
        "Prueba=[]\n",
        "Prueba.append(int(input('Ingresa un numero')))\n",
        "\n",
        "print(Prueba[0])"
      ],
      "metadata": {
        "colab": {
          "base_uri": "https://localhost:8080/"
        },
        "id": "o8O1qP569hyX",
        "outputId": "3731983c-8ed3-4d5d-e0ce-c7b907f11d14"
      },
      "execution_count": null,
      "outputs": [
        {
          "output_type": "stream",
          "name": "stdout",
          "text": [
            "Ingresa un numero5\n",
            "5\n"
          ]
        }
      ]
    },
    {
      "cell_type": "code",
      "source": [
        "Numeros=[]\n",
        "for i in range (0, 5):\n",
        "  Numeros.append(int(input('Ingresa el numero: ')))\n",
        "\n",
        "print(Numeros[0])\n",
        "print(Numeros[3])"
      ],
      "metadata": {
        "colab": {
          "base_uri": "https://localhost:8080/"
        },
        "id": "GbuLUCobAIiL",
        "outputId": "9ae8941d-9871-4521-c40f-a5f425820c0c"
      },
      "execution_count": null,
      "outputs": [
        {
          "output_type": "stream",
          "name": "stdout",
          "text": [
            "Ingresa el numero: 4\n",
            "Ingresa el numero: 3\n",
            "Ingresa el numero: 2\n",
            "Ingresa el numero: 5\n",
            "Ingresa el numero: 1\n",
            "4\n",
            "5\n"
          ]
        }
      ]
    }
  ]
}