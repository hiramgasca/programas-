{
  "nbformat": 4,
  "nbformat_minor": 0,
  "metadata": {
    "colab": {
      "name": "Fivonnaci",
      "provenance": []
    },
    "kernelspec": {
      "name": "python3",
      "display_name": "Python 3"
    },
    "language_info": {
      "name": "python"
    }
  },
  "cells": [
    {
      "cell_type": "code",
      "execution_count": null,
      "metadata": {
        "colab": {
          "base_uri": "https://localhost:8080/"
        },
        "id": "I9qV0JW09wQ1",
        "outputId": "8f71d30a-1c59-4f40-ffdc-aa5ea31008dd"
      },
      "outputs": [
        {
          "output_type": "stream",
          "name": "stdout",
          "text": [
            "Ingresa cuantos numeros8\n",
            "1\n",
            "0\n",
            "1\n",
            "2\n",
            "3\n",
            "5\n",
            "8\n",
            "13\n"
          ]
        }
      ],
      "source": [
        "f0=0\n",
        "f1=1\n",
        "\n",
        "num=int(input(\"Ingresa cuantos numeros\"))\n",
        "if(num==1):\n",
        "  print(f0)\n",
        "elif(num==2):\n",
        "  print(f0)\n",
        "  print(f1)\n",
        "elif(num>2):\n",
        "  print(f1)\n",
        "  print(f0)\n",
        "  for i in range(0, num-2):\n",
        "    f3=f0+f1\n",
        "    f0=f1\n",
        "    f1=f3\n",
        "    print(f3)"
      ]
    }
  ]
}