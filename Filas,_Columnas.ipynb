{
  "nbformat": 4,
  "nbformat_minor": 0,
  "metadata": {
    "colab": {
      "name": "Filas, Columnas",
      "provenance": []
    },
    "kernelspec": {
      "name": "python3",
      "display_name": "Python 3"
    },
    "language_info": {
      "name": "python"
    }
  },
  "cells": [
    {
      "cell_type": "code",
      "source": [
        "#Se establece el tamaño del arreglo\n",
        "m=int(input(\"Ingresa el número de filas: \")) #Filas\n",
        "n=int(input(\"Ingresa el número de columnas: \")) #Columnas\n",
        "\n",
        "#Se crea el arreglo\n",
        "A=[]\n",
        "\n",
        "#Se crea una variable para establecer si es de Netflix o de Disney + que inicia vacía\n",
        "valor=\"\"\n",
        "\n",
        "#Se inicializa el arreglo, es un proceso necesario para los arreglos bidimensionales\n",
        "for i in range(m):\n",
        "  A.append([0]*n)\n",
        "\n",
        "#Inicia el proceso de llenado del arreglo bidimensional\n",
        "for i in range (m):\n",
        "\n",
        "  #Este if es auxiliar solamente para mostrar Netflix o Disney + en la captura\n",
        "  if (i==0):\n",
        "    valor=\"Netflix\"\n",
        "  else:\n",
        "    valor=\"Disney +\"\n",
        "\n",
        "  for j in range (n):\n",
        "    #Así se llena el arreglo bidimensional\n",
        "    A[i][j]=input(\"Introduzca la serie \"+str(j+1)+\" de \"+valor+\": \")\n",
        "\n",
        "#Se imprime el arreglo bidimensional\n",
        "print(A)"
      ],
      "metadata": {
        "id": "xxApKtynOdq0",
        "outputId": "47acaf98-7161-48ed-a8d6-8780e2eee52e",
        "colab": {
          "base_uri": "https://localhost:8080/"
        }
      },
      "execution_count": null,
      "outputs": [
        {
          "output_type": "stream",
          "name": "stdout",
          "text": [
            "Ingresa el número de filas: 2\n",
            "Ingresa el número de columnas: 2\n",
            "Introduzca la serie 1 de Netflix: dkd\n",
            "Introduzca la serie 2 de Netflix: dkdkcd\n",
            "Introduzca la serie 1 de Disney +: dkldkd\n",
            "Introduzca la serie 2 de Disney +: dkekd\n",
            "[['dkd', 'dkdkcd'], ['dkldkd', 'dkekd']]\n"
          ]
        }
      ]
    }
  ]
}