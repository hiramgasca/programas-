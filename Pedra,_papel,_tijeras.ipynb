{
  "nbformat": 4,
  "nbformat_minor": 0,
  "metadata": {
    "colab": {
      "name": "Pedra, papel, tijeras",
      "provenance": []
    },
    "kernelspec": {
      "name": "python3",
      "display_name": "Python 3"
    },
    "language_info": {
      "name": "python"
    }
  },
  "cells": [
    {
      "cell_type": "code",
      "execution_count": null,
      "metadata": {
        "colab": {
          "base_uri": "https://localhost:8080/"
        },
        "id": "BMRkj7-dnYFd",
        "outputId": "13c1a3ce-5c3c-4a04-858c-05011142bb2c"
      },
      "outputs": [
        {
          "output_type": "stream",
          "name": "stdout",
          "text": [
            "jugador 1 ingrese su opcion3\n",
            "jugador 2 ingrese su opcion3\n",
            "Empate\n"
          ]
        }
      ],
      "source": [
        "#1. Piedra\n",
        "#2. Papel\n",
        "#3. Tijera \n",
        "\n",
        "jugador1=int(input('jugador 1 ingrese su opcion'))\n",
        "jugador2=int(input('jugador 2 ingrese su opcion'))\n",
        "\n",
        "if((jugador1==1)and(jugador2==2)):\n",
        "  print(\"Gano jugador 2\")\n",
        "elif((jugador1==1)and(jugador2==3)):\n",
        "  print(\"Gano jugador 1\")\n",
        "elif((jugador1==1)and(jugador2==1)):\n",
        "  print(\"Empate\")\n",
        "elif((jugador1==2)and(jugador2==3)):\n",
        "  print(\"Gano jugador 2\")\n",
        "elif((jugador1==2)and(jugador2==1)):\n",
        "  print(\"Gano jugador 1\")\n",
        "elif((jugador1==2)and(jugador2==2)):\n",
        "  print(\"Empate\")\n",
        "elif((jugador1==3)and(jugador2==1)):\n",
        "  print(\"Gano jugador 2\")\n",
        "elif((jugador1==3)and(jugador2==2)):\n",
        "  print(\"Gano jugador 1\")\n",
        "elif((jugador1==3)and(jugador2==3)):\n",
        "  print(\"Empate\")\n",
        "\n",
        "\n",
        "\n"
      ]
    }
  ]
}