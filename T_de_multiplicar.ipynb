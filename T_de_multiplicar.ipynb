{
  "nbformat": 4,
  "nbformat_minor": 0,
  "metadata": {
    "colab": {
      "name": "T- de multiplicar",
      "provenance": []
    },
    "kernelspec": {
      "name": "python3",
      "display_name": "Python 3"
    },
    "language_info": {
      "name": "python"
    }
  },
  "cells": [
    {
      "cell_type": "code",
      "execution_count": null,
      "metadata": {
        "colab": {
          "base_uri": "https://localhost:8080/"
        },
        "id": "aM0jgSteCnBA",
        "outputId": "21dfd394-8a7f-4692-e975-bc6cb1ba86da"
      },
      "outputs": [
        {
          "output_type": "stream",
          "name": "stdout",
          "text": [
            "digitar un numero entero4\n",
            "4\n",
            "4 x 1 = 4\n",
            "8\n",
            "4 x 2 = 8\n",
            "12\n",
            "4 x 3 = 12\n",
            "16\n",
            "4 x 4 = 16\n",
            "20\n",
            "4 x 5 = 20\n",
            "24\n",
            "4 x 6 = 24\n",
            "28\n",
            "4 x 7 = 28\n",
            "32\n",
            "4 x 8 = 32\n",
            "36\n",
            "4 x 9 = 36\n"
          ]
        }
      ],
      "source": [
        "\n",
        "numero= int(input('digitar un numero entero'))\n",
        "for i in range(1,10):\n",
        "  m=numero*i\n",
        "  print(m)\n",
        "  print(numero, \"x\", i, \"=\", m)\n"
      ]
    }
  ]
}