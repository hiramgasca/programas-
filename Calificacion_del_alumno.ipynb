{
  "nbformat": 4,
  "nbformat_minor": 0,
  "metadata": {
    "colab": {
      "name": "Calificacion del alumno",
      "provenance": []
    },
    "kernelspec": {
      "name": "python3",
      "display_name": "Python 3"
    },
    "language_info": {
      "name": "python"
    }
  },
  "cells": [
    {
      "cell_type": "code",
      "execution_count": null,
      "metadata": {
        "colab": {
          "base_uri": "https://localhost:8080/"
        },
        "id": "v6uNnyHN3wVP",
        "outputId": "25768f8b-540a-47fd-d749-09078c85c87c"
      },
      "outputs": [
        {
          "output_type": "stream",
          "name": "stdout",
          "text": [
            "Ingrese la calificacion del alumno3\n",
            "Reprobado\n"
          ]
        }
      ],
      "source": [
        "cal=float(input('Ingrese la calificacion del alumno'))\n",
        "if(cal<=7):\n",
        "  print('Reprobado')\n",
        "else:\n",
        "  print('Aprobado')"
      ]
    }
  ]
}