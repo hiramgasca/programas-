{
  "nbformat": 4,
  "nbformat_minor": 0,
  "metadata": {
    "colab": {
      "name": "Calculadora.ipynb",
      "provenance": [],
      "collapsed_sections": []
    },
    "kernelspec": {
      "name": "python3",
      "display_name": "Python 3"
    },
    "language_info": {
      "name": "python"
    }
  },
  "cells": [
    {
      "cell_type": "code",
      "metadata": {
        "id": "Saui4GiPPhXJ",
        "outputId": "ba30a43f-389c-4282-a6bb-f864aad9db5f",
        "colab": {
          "base_uri": "https://localhost:8080/"
        }
      },
      "source": [
        "print(\"Digite numero de la función que necesite: \")\n",
        "print(\"1.- SUMAR\")\n",
        "print(\"2.- RESTAR\")\n",
        "print(\"3.- MULTIPLICAR\")\n",
        "print(\"4.- DIVIDIR\")\n",
        "\n",
        "\n",
        "num=int(input())\n",
        "\n",
        "if(num==1):\n",
        "  \n",
        "    print(\"Digite el primer valor: \")\n",
        "    num1=float(input())\n",
        "    print(\"Digite el segundo valor valor: \")\n",
        "    num2=float(input())\n",
        "\n",
        "    resul=num1+num2\n",
        "\n",
        "    print(num1,\"+\",num2,\"=\",resul)\n",
        "else:\n",
        "  if(num==2):\n",
        "      print(\"Digite el primer valor: \")\n",
        "      num1=float(input())\n",
        "      print(\"Digite el segundo valor valor: \")\n",
        "      num2=float(input())\n",
        "\n",
        "      resul=num1 - num2\n",
        "\n",
        "      print(num1,\"-\",num2,\"=\",resul)\n",
        "  else:\n",
        "    if(num==3):\n",
        "        print(\"Digite el primer valor: \")\n",
        "        num1=float(input())\n",
        "        print(\"Digite el segundo valor valor: \")\n",
        "        num2=float(input())\n",
        "\n",
        "        resul=num1 * num2\n",
        "\n",
        "        print(num1,\"x\",num2,\"=\",resul)\n",
        "    else:\n",
        "      if(num==4):\n",
        "          print(\"Digite el primer valor: \")\n",
        "          num1=float(input())\n",
        "          print(\"Digite el segundo valor valor: \")\n",
        "          num2=float(input())\n",
        "\n",
        "          if(num2==0):\n",
        "            print(\"No se puede dividir entre 0\")\n",
        "          else:\n",
        "            resul=num1 / num2\n",
        "\n",
        "            print(num1,\"/\",num2,\"=\",resul)\n",
        "      else:\n",
        "          print(\"--Digite una opcion valida--\")"
      ],
      "execution_count": null,
      "outputs": [
        {
          "output_type": "stream",
          "name": "stdout",
          "text": [
            "Digite numero de la función que necesite: \n",
            "1.- SUMAR\n",
            "2.- RESTAR\n",
            "3.- MULTIPLICAR\n",
            "4.- DIVIDIR\n",
            "1\n",
            "Digite el primer valor: \n",
            "2\n",
            "Digite el segundo valor valor: \n",
            "4\n",
            "2.0 + 4.0 = 6.0\n"
          ]
        }
      ]
    }
  ]
}