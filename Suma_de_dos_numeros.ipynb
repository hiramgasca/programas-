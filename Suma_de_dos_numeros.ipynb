{
  "nbformat": 4,
  "nbformat_minor": 0,
  "metadata": {
    "colab": {
      "name": "Suma de dos numeros",
      "provenance": []
    },
    "kernelspec": {
      "name": "python3",
      "display_name": "Python 3"
    },
    "language_info": {
      "name": "python"
    }
  },
  "cells": [
    {
      "cell_type": "code",
      "execution_count": null,
      "metadata": {
        "colab": {
          "base_uri": "https://localhost:8080/"
        },
        "id": "_UiHndMQ1YIU",
        "outputId": "484779f1-9ea0-4d9f-e0d2-dd841900ff0f"
      },
      "outputs": [
        {
          "output_type": "stream",
          "name": "stdout",
          "text": [
            "ingresa el primer numero4\n",
            "ingresa el segundo numero5\n",
            "El resultado es 9\n"
          ]
        }
      ],
      "source": [
        "n1=int(input('ingresa el primer numero'))\n",
        "n2=int(input('ingresa el segundo numero'))\n",
        "sum=n1+n2\n",
        "print('El resultado es', sum)"
      ]
    }
  ]
}