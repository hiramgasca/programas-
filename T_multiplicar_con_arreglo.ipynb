{
  "nbformat": 4,
  "nbformat_minor": 0,
  "metadata": {
    "colab": {
      "name": "T-multiplicar con arreglo",
      "provenance": []
    },
    "kernelspec": {
      "name": "python3",
      "display_name": "Python 3"
    },
    "language_info": {
      "name": "python"
    }
  },
  "cells": [
    {
      "cell_type": "code",
      "execution_count": null,
      "metadata": {
        "colab": {
          "base_uri": "https://localhost:8080/"
        },
        "id": "c0JY4IzBaUH1",
        "outputId": "5f0935b6-f784-403e-c48c-321da3aad8cb"
      },
      "outputs": [
        {
          "output_type": "stream",
          "name": "stdout",
          "text": [
            "Ingrese el numero de tabla deseado: 2\n",
            "2 x 1 = 2\n",
            "2\n",
            "2 x 2 = 4\n",
            "4\n",
            "2 x 3 = 6\n",
            "6\n",
            "2 x 4 = 8\n",
            "8\n",
            "2 x 5 = 10\n",
            "10\n",
            "2 x 6 = 12\n",
            "12\n",
            "2 x 7 = 14\n",
            "14\n",
            "2 x 8 = 16\n",
            "16\n",
            "2 x 9 = 18\n",
            "18\n"
          ]
        }
      ],
      "source": [
        "JH=[1]\n",
        "numero=int(input('Ingrese el numero de tabla deseado: '))\n",
        "for i in range(1, 10):\n",
        "  tabla=numero*i\n",
        "  JH.append(tabla)\n",
        "  print(numero, \"x\", i, \"=\", tabla)\n",
        "  print(JH[i])"
      ]
    }
  ]
}