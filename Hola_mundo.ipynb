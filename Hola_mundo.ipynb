{
  "nbformat": 4,
  "nbformat_minor": 0,
  "metadata": {
    "colab": {
      "name": "Hola mundo",
      "provenance": []
    },
    "kernelspec": {
      "name": "python3",
      "display_name": "Python 3"
    },
    "language_info": {
      "name": "python"
    }
  },
  "cells": [
    {
      "cell_type": "code",
      "execution_count": null,
      "metadata": {
        "colab": {
          "base_uri": "https://localhost:8080/"
        },
        "id": "Ip0hWJd5FsQk",
        "outputId": "c14ab931-92d1-4eaa-d489-4927cc0ef1ac"
      },
      "outputs": [
        {
          "output_type": "stream",
          "name": "stdout",
          "text": [
            "['O', 'D', 'N', 'U', 'M', 'A', 'L', 'O', 'H']\n"
          ]
        }
      ],
      "source": [
        "J=8\n",
        "\n",
        "Arre=['H','O','L','A','M','U','N','D','O']\n",
        "\n",
        "for i in range(0,4):\n",
        "  var=Arre [J]\n",
        "  Arre [J]=Arre[i]\n",
        "  Arre [i]=var\n",
        "  J=J-1\n",
        "\n",
        "print(Arre)"
      ]
    }
  ]
}