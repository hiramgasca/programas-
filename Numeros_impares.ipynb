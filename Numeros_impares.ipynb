{
  "nbformat": 4,
  "nbformat_minor": 0,
  "metadata": {
    "colab": {
      "name": "Numeros impares",
      "provenance": []
    },
    "kernelspec": {
      "name": "python3",
      "display_name": "Python 3"
    },
    "language_info": {
      "name": "python"
    }
  },
  "cells": [
    {
      "cell_type": "code",
      "execution_count": null,
      "metadata": {
        "colab": {
          "base_uri": "https://localhost:8080/"
        },
        "id": "sZ92dGEh6PpD",
        "outputId": "782d0e00-ab8a-417f-90cf-570dc2628080"
      },
      "outputs": [
        {
          "output_type": "stream",
          "name": "stdout",
          "text": [
            "Ingrese el numero : 2\n",
            "[1, 3, 5, 7, 9, 11, 13, 15, 17, 19, 21, 23, 25, 27, 29, 31, 33, 35, 37, 39]\n",
            "[39, 37, 35, 33, 31, 29, 27, 25, 23, 21, 19, 17, 15, 13, 11, 9, 7, 5, 3, 1]\n"
          ]
        }
      ],
      "source": [
        "H=[]\n",
        "i=20\n",
        "\n",
        "numero=int(input('Ingrese el numero : '))\n",
        "\n",
        "for i in range(0, 20):\n",
        "  impar=numero*i+1\n",
        "  H.append(impar)\n",
        " \n",
        "print(H)\n",
        "\n",
        "for J in range(0, 10):\n",
        "  var=H[i]\n",
        "  H [i]=H[J]\n",
        "  H [J]=var\n",
        "  i=i-1\n",
        "\n",
        "print(H)"
      ]
    }
  ]
}