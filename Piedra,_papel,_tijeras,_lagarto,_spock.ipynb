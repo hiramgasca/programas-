{
  "nbformat": 4,
  "nbformat_minor": 0,
  "metadata": {
    "colab": {
      "name": "Piedra, papel, tijeras, lagarto, spock",
      "provenance": []
    },
    "kernelspec": {
      "name": "python3",
      "display_name": "Python 3"
    },
    "language_info": {
      "name": "python"
    }
  },
  "cells": [
    {
      "cell_type": "code",
      "execution_count": null,
      "metadata": {
        "id": "vpNpuPneAtQy",
        "colab": {
          "base_uri": "https://localhost:8080/"
        },
        "outputId": "cb9c486a-7479-4fa5-aa1c-f34c634dab9a"
      },
      "outputs": [
        {
          "output_type": "stream",
          "name": "stdout",
          "text": [
            "jugador 1 ingrese su opcion3\n",
            "jugador 2 ingrese su opcion3\n",
            "Empate\n"
          ]
        }
      ],
      "source": [
        "#1. Piedra\n",
        "#2. Papel\n",
        "#3. Tijera \n",
        "#4. Lagarto\n",
        "#5. Spock\n",
        "\n",
        "jugador1=int(input('jugador 1 ingrese su opcion'))\n",
        "jugador2=int(input('jugador 2 ingrese su opcion'))\n",
        "\n",
        "if((jugador1==3)and(jugador2==2)):\n",
        "  print(\"Gano jugador 1\")\n",
        "elif((jugador1==1)and(jugador2==2)):\n",
        "  print(\"Gano jugador 2\")\n",
        "elif((jugador1==1)and(jugador2==1)):\n",
        "  print(\"Empate\")\n",
        "elif((jugador1==5)and(jugador2==3)):\n",
        "  print(\"Gano jugador 1\")\n",
        "elif((jugador1==4)and(jugador2==3)):\n",
        "  print(\"Gano jugador 2\")\n",
        "elif((jugador1==5)and(jugador2==5)):\n",
        "  print(\"Empate\")\n",
        "elif((jugador1==4)and(jugador2==2)):\n",
        "  print(\"Gano jugador 1\")\n",
        "elif((jugador1==2)and(jugador2==5)):\n",
        "  print(\"Gano jugador 2\")\n",
        "elif((jugador1==3)and(jugador2==3)):\n",
        "  print(\"Empate\")\n",
        "elif((jugador1==5)and(jugador2==1)):\n",
        "  print(\"Gano jugador 1\")\n",
        "elif((jugador1==1)and(jugador2==3)):\n",
        "  print(\"Gano jugador 1\")\n",
        "\n"
      ]
    }
  ]
}