{
  "nbformat": 4,
  "nbformat_minor": 0,
  "metadata": {
    "colab": {
      "name": "Arreglos bidimencionales",
      "provenance": []
    },
    "kernelspec": {
      "name": "python3",
      "display_name": "Python 3"
    },
    "language_info": {
      "name": "python"
    }
  },
  "cells": [
    {
      "cell_type": "code",
      "execution_count": null,
      "metadata": {
        "colab": {
          "base_uri": "https://localhost:8080/"
        },
        "id": "P3T6wc1a_T-i",
        "outputId": "c4d027b4-0ea7-41d2-e02b-ab176ac0d9d7"
      },
      "outputs": [
        {
          "output_type": "stream",
          "name": "stdout",
          "text": [
            "[1, 2, 4, 3]\n"
          ]
        }
      ],
      "source": [
        "h=[[1, 2, 4, 3], [8, 4, 6, 2]]\n",
        "\n",
        "print(h[0]) #imprime la primera columna\n",
        "print(h[1]) #imprime la segunda columna\n"
      ]
    },
    {
      "cell_type": "code",
      "source": [
        "h=[[1, 2, 4, 3], [8, 4, 6, 2]]\n",
        "\n",
        "print(h[0][0])\n",
        " #columna. #filas"
      ],
      "metadata": {
        "colab": {
          "base_uri": "https://localhost:8080/"
        },
        "id": "D2EuUbG3_-AW",
        "outputId": "817527db-203b-4594-c61b-dd0e76c1e757"
      },
      "execution_count": null,
      "outputs": [
        {
          "output_type": "stream",
          "name": "stdout",
          "text": [
            "1\n"
          ]
        }
      ]
    }
  ]
}