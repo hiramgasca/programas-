{
  "nbformat": 4,
  "nbformat_minor": 0,
  "metadata": {
    "colab": {
      "name": "Promedio-arreglos bidimencionales",
      "provenance": []
    },
    "kernelspec": {
      "name": "python3",
      "display_name": "Python 3"
    },
    "language_info": {
      "name": "python"
    }
  },
  "cells": [
    {
      "cell_type": "code",
      "execution_count": null,
      "metadata": {
        "colab": {
          "base_uri": "https://localhost:8080/"
        },
        "id": "sW9YCK7uFm67",
        "outputId": "7af0bb65-f444-4845-a501-5427d78aa2b0"
      },
      "outputs": [
        {
          "output_type": "stream",
          "name": "stdout",
          "text": [
            "Ingresa el número de filas: 4\n",
            "Ingresa el número de columnas: 3\n",
            "Datos numero de control: hsdshdd\n",
            "Datos nombre del alumno: hiram\n",
            "Datos Genero: hombre\n",
            "Datos Calificacion: 8\n",
            "Datos numero de control: fhasgfe\n",
            "Datos nombre del alumno: juana\n",
            "Datos Genero: mujer\n",
            "Datos Calificacion: 9\n",
            "Datos numero de control: kjdgdf\n",
            "Datos nombre del alumno: hugo\n",
            "Datos Genero: hombre\n",
            "Datos Calificacion: 7\n",
            "Promedio de hombres 7.5\n",
            "Promedio de mujeres 9.0\n",
            "[['hsdshdd', 'hiram', 'hombre', '8'], ['fhasgfe', 'juana', 'mujer', '9'], ['kjdgdf', 'hugo', 'hombre', '7']]\n"
          ]
        }
      ],
      "source": [
        "Tothombre=0\n",
        "Totmujer=0\n",
        "Calhombre=0\n",
        "Calmujer=0\n",
        "Promhombre=0\n",
        "Prommmujer=0\n",
        "\n",
        "Hiram=int(input(\"Ingresa el número de filas: \"))\n",
        "Juana=int(input(\"Ingresa el número de columnas: \"))\n",
        "\n",
        "A=[]\n",
        "valor=\"\"\n",
        "\n",
        "for i in range(0,Juana):\n",
        "  A.append([0]*Hiram)\n",
        "\n",
        "for i in range(0,Juana):\n",
        "  for j in range(0,Hiram):\n",
        "    if (j==0):\n",
        "      valor=\"numero de control\"\n",
        "    elif(j==1):\n",
        "      valor=\"nombre del alumno\"\n",
        "    elif(j==2):\n",
        "      valor=\"Genero\"\n",
        "    elif(j==3):\n",
        "      valor=\"Calificacion\"\n",
        "    A[i][j]=input(\"Datos \"+valor+ \": \" )\n",
        "\n",
        "for i in range(0,Juana):\n",
        "\n",
        "  if(A[i][2]=='hombre'):\n",
        "    Tothombre=Tothombre+1\n",
        "    Calhombre=Calhombre+int(A[i][3])\n",
        "\n",
        "  if(A[i][2]=='mujer'):\n",
        "    Totmujer=Totmujer+1\n",
        "    Calmujer=Calmujer+int(A[i][3])\n",
        "Promhombre=Calhombre/Tothombre\n",
        "Prommujer=Calmujer/Totmujer\n",
        "\n",
        "\n",
        "print(\"Promedio de hombres\",Promhombre)\n",
        "print(\"Promedio de mujeres\",Prommujer)\n",
        "print(A)"
      ]
    }
  ]
}